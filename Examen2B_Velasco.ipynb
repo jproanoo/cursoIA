{
  "nbformat": 4,
  "nbformat_minor": 0,
  "metadata": {
    "colab": {
      "provenance": []
    },
    "kernelspec": {
      "name": "python3",
      "display_name": "Python 3"
    },
    "language_info": {
      "name": "python"
    }
  },
  "cells": [
    {
      "cell_type": "markdown",
      "source": [
        "**Examen 2B Computación Paralela**\n",
        "\n",
        "Instalación e importación de librerías"
      ],
      "metadata": {
        "id": "haVMwinsI-gx"
      }
    },
    {
      "cell_type": "code",
      "execution_count": 2,
      "metadata": {
        "id": "ITY8PTX8I9bY"
      },
      "outputs": [],
      "source": [
        "#!pip install pyspark #Instalar Apache Spark y sus dependencias\n",
        "#Librerias\n",
        "from pyspark.sql import SparkSession\n",
        "from pyspark.sql.functions import col, isnan, when, count, avg\n",
        "from sklearn.metrics import classification_report\n",
        "import pandas as pd\n",
        "import matplotlib.pyplot as plt\n",
        "#Librerias MLlib\n",
        "from pyspark.ml.regression import LinearRegression\n",
        "from pyspark.ml.evaluation import BinaryClassificationEvaluator, MulticlassClassificationEvaluator, RegressionEvaluator, ClusteringEvaluator\n",
        "from pyspark.ml.feature import StringIndexer, OneHotEncoder, VectorAssembler, StandardScaler\n",
        "from pyspark.ml.classification import LogisticRegression, DecisionTreeClassifier, DecisionTreeRegressionModel\n",
        "from pyspark.ml.clustering import KMeans\n",
        "from pyspark.ml import Pipeline\n",
        "from pyspark.ml.feature import PCA"
      ]
    },
    {
      "cell_type": "markdown",
      "source": [
        "\n",
        "**1. Exploración de Datos:**\n",
        "\n",
        "Pregunta 1: ¿Cuántos pasajeros hay en el conjunto de datos y cuántas características contiene?\n",
        "\n",
        "\n",
        "*   Número de pasajeros: 418\n",
        "*   Número de características: 12\n",
        "\n"
      ],
      "metadata": {
        "id": "Po7vMeyOKs9F"
      }
    },
    {
      "cell_type": "code",
      "source": [
        "#Carga del archivo csv\n",
        "spark = SparkSession.builder.appName(\"Examen2B\").getOrCreate()\n",
        "df = spark.read.csv('titanic.csv', header=True, inferSchema=True)\n",
        "df.show(5)\n",
        "df.describe().show()\n",
        "print(\"Pregunta 1:\")\n",
        "print(\"Número de pasajeros:\", df.count())\n",
        "print(\"Número de características:\", len(df.columns))"
      ],
      "metadata": {
        "colab": {
          "base_uri": "https://localhost:8080/"
        },
        "id": "NacPizrpKuZZ",
        "outputId": "a44a1b74-7ce3-4a07-9413-3d42fe89925b"
      },
      "execution_count": 3,
      "outputs": [
        {
          "output_type": "stream",
          "name": "stdout",
          "text": [
            "+-----------+--------+------+--------------------+------+----+-----+-----+-------+-------+-----+--------+\n",
            "|PassengerId|Survived|Pclass|                Name|   Sex| Age|SibSp|Parch| Ticket|   Fare|Cabin|Embarked|\n",
            "+-----------+--------+------+--------------------+------+----+-----+-----+-------+-------+-----+--------+\n",
            "|        892|       0|     3|    Kelly, Mr. James|  male|34.5|    0|    0| 330911| 7.8292| NULL|       Q|\n",
            "|        893|       1|     3|Wilkes, Mrs. Jame...|female|47.0|    1|    0| 363272|    7.0| NULL|       S|\n",
            "|        894|       0|     2|Myles, Mr. Thomas...|  male|62.0|    0|    0| 240276| 9.6875| NULL|       Q|\n",
            "|        895|       0|     3|    Wirz, Mr. Albert|  male|27.0|    0|    0| 315154| 8.6625| NULL|       S|\n",
            "|        896|       1|     3|Hirvonen, Mrs. Al...|female|22.0|    1|    1|3101298|12.2875| NULL|       S|\n",
            "+-----------+--------+------+--------------------+------+----+-----+-----+-------+-------+-----+--------+\n",
            "only showing top 5 rows\n",
            "\n",
            "+-------+------------------+-------------------+------------------+--------------------+------+------------------+------------------+------------------+------------------+------------------+-----+--------+\n",
            "|summary|       PassengerId|           Survived|            Pclass|                Name|   Sex|               Age|             SibSp|             Parch|            Ticket|              Fare|Cabin|Embarked|\n",
            "+-------+------------------+-------------------+------------------+--------------------+------+------------------+------------------+------------------+------------------+------------------+-----+--------+\n",
            "|  count|               418|                418|               418|                 418|   418|               332|               418|               418|               418|               417|   91|     418|\n",
            "|   mean|            1100.5|0.36363636363636365|2.2655502392344498|                NULL|  NULL|30.272590361445783|0.4473684210526316|0.3923444976076555|223850.98986486485|  35.6271884892086| NULL|    NULL|\n",
            "| stddev|120.81045760473994| 0.4816221409322309|0.8418375519640503|                NULL|  NULL|14.181209235624424|0.8967595611217135|0.9814288785371694| 369523.7764694362|55.907576179973844| NULL|    NULL|\n",
            "|    min|               892|                  0|                 1|\"Assaf Khalil, Mr...|female|              0.17|                 0|                 0|            110469|               0.0|  A11|       C|\n",
            "|    max|              1309|                  1|                 3|van Billiard, Mas...|  male|              76.0|                 8|                 9|       W.E.P. 5734|          512.3292|   G6|       S|\n",
            "+-------+------------------+-------------------+------------------+--------------------+------+------------------+------------------+------------------+------------------+------------------+-----+--------+\n",
            "\n",
            "Pregunta 1:\n",
            "Número de pasajeros: 418\n",
            "Número de características: 12\n"
          ]
        }
      ]
    },
    {
      "cell_type": "markdown",
      "source": [
        "**2. Preparación de Datos:**\n",
        "\n",
        " Pregunta 2: ¿Qué estrategias utilizaste para manejar los valores nulos en las columnas 'Age' y 'Embarked'?\n",
        "\n",
        "*   Para la columna 'Age', se maneja valor faltante con la media de la edad entre los registros no nulos.\n",
        "*   Para la columna 'Embarked', se maneja valor faltante con la moda (el valor más frecuente) entre los registros no nulos."
      ],
      "metadata": {
        "id": "mWEeBLk2Lzha"
      }
    },
    {
      "cell_type": "code",
      "source": [
        "# Manejo de valores nulos en la columna 'Age'\n",
        "median_age = df.select(\"Age\").dropna().approxQuantile(\"Age\", [0.5], 0.25)[0]\n",
        "df = df.withColumn(\"Age\", when(col(\"Age\").isNull(), median_age).otherwise(col(\"Age\")))\n",
        "# Manejo de valores nulos en la columna 'Embarked'\n",
        "mode_embarked = df.groupBy(\"Embarked\").count().orderBy('count', ascending=False).first()[0]\n",
        "df = df.withColumn(\"Embarked\", when(col(\"Embarked\").isNull(), mode_embarked).otherwise(col(\"Embarked\")))\n",
        "# Mostrar la cantidad de valores nulos en cada columna\n",
        "df.select([count(when(isnan(c) | col(c).isNull(), c)).alias(c) for c in df.columns]).show()\n",
        "# Manejo de valores nulos para columnas numéricas\n",
        "numero = [c for c, t in df.dtypes if t in ('int', 'double')]\n",
        "for c in numero:\n",
        "    prom = df.select(avg(col(c))).collect()[0][0]  # Para obtener el promedio\n",
        "    df = df.na.fill({c: prom})\n",
        "# Manejo de valores nulos para columnas de tipo string\n",
        "dato = [c for c, t in df.dtypes if t == 'string']\n",
        "df = df.dropna(subset=dato)  # Para eliminar filas con nulos en datos tipo string\n",
        "df.show()"
      ],
      "metadata": {
        "colab": {
          "base_uri": "https://localhost:8080/"
        },
        "id": "l8w4HqQYL3p5",
        "outputId": "dc794f71-f124-4644-e971-a5fd7b113041"
      },
      "execution_count": 4,
      "outputs": [
        {
          "output_type": "stream",
          "name": "stdout",
          "text": [
            "+-----------+--------+------+----+---+---+-----+-----+------+----+-----+--------+\n",
            "|PassengerId|Survived|Pclass|Name|Sex|Age|SibSp|Parch|Ticket|Fare|Cabin|Embarked|\n",
            "+-----------+--------+------+----+---+---+-----+-----+------+----+-----+--------+\n",
            "|          0|       0|     0|   0|  0|  0|    0|    0|     0|   1|  327|       0|\n",
            "+-----------+--------+------+----+---+---+-----+-----+------+----+-----+--------+\n",
            "\n",
            "+-----------+--------+------+--------------------+------+----+-----+-----+-----------+-------+---------------+--------+\n",
            "|PassengerId|Survived|Pclass|                Name|   Sex| Age|SibSp|Parch|     Ticket|   Fare|          Cabin|Embarked|\n",
            "+-----------+--------+------+--------------------+------+----+-----+-----+-----------+-------+---------------+--------+\n",
            "|        904|       1|     1|Snyder, Mrs. John...|female|23.0|    1|    0|      21228|82.2667|            B45|       S|\n",
            "|        906|       1|     1|Chaffee, Mrs. Her...|female|47.0|    1|    0|W.E.P. 5734| 61.175|            E31|       S|\n",
            "|        916|       1|     1|Ryerson, Mrs. Art...|female|48.0|    1|    3|   PC 17608|262.375|B57 B59 B63 B66|       C|\n",
            "|        918|       1|     1|Ostby, Miss. Hele...|female|22.0|    0|    1|     113509|61.9792|            B36|       C|\n",
            "|        920|       0|     1|Brady, Mr. John B...|  male|41.0|    0|    0|     113054|   30.5|            A21|       S|\n",
            "|        926|       0|     1|Mock, Mr. Philipp...|  male|30.0|    1|    0|      13236|  57.75|            C78|       C|\n",
            "|        933|       0|     1|Franklin, Mr. Tho...|  male|21.0|    0|    0|     113778|  26.55|            D34|       S|\n",
            "|        936|       1|     1|Kimball, Mrs. Edw...|female|45.0|    1|    0|      11753|52.5542|            D19|       S|\n",
            "|        938|       0|     1|Chevre, Mr. Paul ...|  male|45.0|    0|    0|   PC 17594|   29.7|             A9|       C|\n",
            "|        940|       1|     1|Bucknell, Mrs. Wi...|female|60.0|    0|    0|      11813|76.2917|            D15|       C|\n",
            "|        942|       0|     1|Smith, Mr. Lucien...|  male|24.0|    1|    0|      13695|   60.0|            C31|       S|\n",
            "|        945|       1|     1|Fortune, Miss. Et...|female|28.0|    3|    2|      19950|  263.0|    C23 C25 C27|       S|\n",
            "|        949|       0|     3|Abelseth, Mr. Ola...|  male|25.0|    0|    0|     348122|   7.65|          F G63|       S|\n",
            "|        951|       1|     1|Chaudanson, Miss....|female|36.0|    0|    0|   PC 17608|262.375|            B61|       C|\n",
            "|        956|       0|     1|Ryerson, Master. ...|  male|13.0|    2|    2|   PC 17608|262.375|B57 B59 B63 B66|       C|\n",
            "|        960|       0|     1|Tucker, Mr. Gilbe...|  male|31.0|    0|    0|       2543|28.5375|            C53|       C|\n",
            "|        961|       1|     1|Fortune, Mrs. Mar...|female|60.0|    1|    4|      19950|  263.0|    C23 C25 C27|       S|\n",
            "|        965|       0|     1|Ovies y Rodriguez...|  male|28.5|    0|    0|   PC 17562|27.7208|            D43|       C|\n",
            "|        966|       1|     1|Geiger, Miss. Amalie|female|35.0|    0|    0|     113503|  211.5|           C130|       C|\n",
            "|        967|       0|     1|  Keeping, Mr. Edwin|  male|32.5|    0|    0|     113503|  211.5|           C132|       C|\n",
            "+-----------+--------+------+--------------------+------+----+-----+-----+-----------+-------+---------------+--------+\n",
            "only showing top 20 rows\n",
            "\n"
          ]
        }
      ]
    },
    {
      "cell_type": "markdown",
      "source": [
        "**3. Ingeniería de Características:**\n",
        "\n",
        "Pregunta 3: ¿Cómo codificaste las variables categóricas 'Sex' y 'Embarked' para que pudieran ser utilizadas en el modelo?\n",
        "\n",
        "Se utilizó la técnica de codificación de índice de cadenas para convertir las variables categóricas 'Sex' y 'Embarked' en valores numéricos. Esta técnica crea un índice para cada categoría única y asigna un valor numérico correspondiente a cada registro."
      ],
      "metadata": {
        "id": "NNKIZ06HODlz"
      }
    },
    {
      "cell_type": "code",
      "source": [
        "index = [StringIndexer(inputCol=c, outputCol=c+\"_indexed\") for c in dato] #Lista de etiquetas\n",
        "for indexer in index:\n",
        "    df = indexer.fit(df).transform(df) #Transforma en numéricas las etiquetas\n",
        "#Codificación y transformación en binario de las etiquetas\n",
        "encoder = OneHotEncoder(inputCols=[c+\"_indexed\" for c in dato], outputCols=[c+\"_encoded\" for c in dato])\n",
        "df = encoder.fit(df).transform(df)\n",
        "#Para combinar las columnas, Normaliza las caracteristicas\n",
        "combina = VectorAssembler(inputCols=[c+\"_encoded\" for c in dato] + numero, outputCol=\"features_vector\")\n",
        "df = combina.transform(df)\n",
        "scaler = StandardScaler(inputCol=\"features_vector\", outputCol=\"caracteristicaEscalada\") #Escalar las caracteristicas (media a cero y desviación estandar a 1)\n",
        "scaler_model = scaler.fit(df)\n",
        "df = scaler_model.transform(df) #Ajusta y transforma las caracterisiticas\n",
        "df.select(\"caracteristicaEscalada\").show()"
      ],
      "metadata": {
        "colab": {
          "base_uri": "https://localhost:8080/"
        },
        "id": "VTRMr-_GOJxu",
        "outputId": "a62bbba6-2cff-4d8c-ce86-ca327741fa70"
      },
      "execution_count": 5,
      "outputs": [
        {
          "output_type": "stream",
          "name": "stdout",
          "text": [
            "+----------------------+\n",
            "|caracteristicaEscalada|\n",
            "+----------------------+\n",
            "|  (244,[76,102,162,...|\n",
            "|  (244,[16,222,236,...|\n",
            "|  (244,[70,92,160,2...|\n",
            "|  (244,[64,114,183,...|\n",
            "|  (244,[10,90,113,1...|\n",
            "|  (244,[61,90,98,16...|\n",
            "|  (244,[37,90,116,2...|\n",
            "|  (244,[52,119,212,...|\n",
            "|  (244,[18,90,148,1...|\n",
            "|  (244,[13,124,211,...|\n",
            "|  (244,[73,90,100,1...|\n",
            "|  (244,[35,101,165,...|\n",
            "|  (244,[1,90,137,23...|\n",
            "|  (244,[17,92,188,2...|\n",
            "|  (244,[68,90,92,16...|\n",
            "|  (244,[85,90,134,2...|\n",
            "|  (244,[36,101,165,...|\n",
            "|  (244,[65,90,143,2...|\n",
            "|  (244,[40,91,194,2...|\n",
            "|  (244,[50,90,91,19...|\n",
            "+----------------------+\n",
            "only showing top 20 rows\n",
            "\n"
          ]
        }
      ]
    },
    {
      "cell_type": "markdown",
      "source": [
        "**4. Entrenamiento del Modelo:**\n",
        "\n",
        "Pregunta 4: ¿Cuáles fueron los pasos para dividir los datos en conjuntos de entrenamiento y prueba, y qué proporción de los datos se utilizó para cada conjunto?\n",
        "\n",
        "\n",
        "*   El conjunto de datos se dividio en 70% para entrenamiento y 30% para pruebas\n",
        "*   La porción de datos utilizados se las establece de forma randomica, en este caso 65 datos para train y 26 para test\n",
        "\n",
        "\n"
      ],
      "metadata": {
        "id": "K65qyfxJPk7K"
      }
    },
    {
      "cell_type": "code",
      "source": [
        "train, test = df.randomSplit([0.7, 0.3], seed=2)\n",
        "print(f\"Tamaño del conjunto de entrenamiento: {train.count()}\")\n",
        "print(f\"Tamaño del conjunto de prueba: {test.count()}\")"
      ],
      "metadata": {
        "colab": {
          "base_uri": "https://localhost:8080/"
        },
        "id": "bxSdtab6Pp5p",
        "outputId": "ffe85a31-b916-45a6-8b97-b6a6a73526f0"
      },
      "execution_count": 7,
      "outputs": [
        {
          "output_type": "stream",
          "name": "stdout",
          "text": [
            "Tamaño del conjunto de entrenamiento: 65\n",
            "Tamaño del conjunto de prueba: 26\n"
          ]
        }
      ]
    },
    {
      "cell_type": "markdown",
      "source": [
        "Entrenamiento del Modelo con regresión logística"
      ],
      "metadata": {
        "id": "QxLBJoyLRiC7"
      }
    },
    {
      "cell_type": "code",
      "source": [
        "label_column = 'Survived'\n",
        "\n",
        "if label_column not in df.columns:\n",
        "    raise ValueError(f\"La columna '{label_column}' no existe en el DataFrame.\")\n",
        "\n",
        "# Crear una columna indexada para la etiqueta si es una variable categórica\n",
        "label_indexer = StringIndexer(inputCol=label_column, outputCol=\"indexed_label\")\n",
        "label_model = label_indexer.fit(train)\n",
        "train = label_model.transform(train)\n",
        "test = label_model.transform(test)\n",
        "lr = LogisticRegression(featuresCol='caracteristicaEscalada', labelCol='indexed_label')\n",
        "lr_model = lr.fit(train)"
      ],
      "metadata": {
        "id": "1mPWsnhqP4S_"
      },
      "execution_count": 8,
      "outputs": []
    },
    {
      "cell_type": "markdown",
      "source": [
        "**5. Evaluación del Modelo**\n",
        "\n",
        "Utilizando la métrica de AUC-ROC"
      ],
      "metadata": {
        "id": "pD5WCnyaSHR8"
      }
    },
    {
      "cell_type": "code",
      "source": [
        "predic = lr_model.transform(test)\n",
        "predic.select('caracteristicaEscalada', 'indexed_label', 'prediction').show(5)\n",
        "#Evaluador de clasificación binaria\n",
        "evaluador = BinaryClassificationEvaluator(labelCol='indexed_label', metricName='areaUnderROC')\n",
        "auc_roc = evaluador.evaluate(predic) #calcula la métrica AUC-ROC para las predicciones\n",
        "print(f\"Área bajo la curva ROC (AUC-ROC): {auc_roc}\")"
      ],
      "metadata": {
        "colab": {
          "base_uri": "https://localhost:8080/"
        },
        "id": "eBq-i4bHSMVF",
        "outputId": "6a3dc404-b651-45b7-d671-6c6853a099c9"
      },
      "execution_count": 9,
      "outputs": [
        {
          "output_type": "stream",
          "name": "stdout",
          "text": [
            "+----------------------+-------------+----------+\n",
            "|caracteristicaEscalada|indexed_label|prediction|\n",
            "+----------------------+-------------+----------+\n",
            "|  (244,[10,90,113,1...|          0.0|       0.0|\n",
            "|  (244,[18,90,148,1...|          0.0|       0.0|\n",
            "|  (244,[68,90,92,16...|          0.0|       1.0|\n",
            "|  (244,[36,101,165,...|          1.0|       1.0|\n",
            "|  (244,[24,123,163,...|          1.0|       1.0|\n",
            "+----------------------+-------------+----------+\n",
            "only showing top 5 rows\n",
            "\n",
            "Área bajo la curva ROC (AUC-ROC): 1.0\n"
          ]
        }
      ]
    },
    {
      "cell_type": "markdown",
      "source": [
        "Métrica para determinar la Precisión del Modelo\n",
        "\n",
        "Precisión: 0.9615384615384616"
      ],
      "metadata": {
        "id": "7fCKi5FyS5I3"
      }
    },
    {
      "cell_type": "code",
      "source": [
        "evaluador_precision = MulticlassClassificationEvaluator(labelCol='indexed_label', metricName='accuracy')\n",
        "precision = evaluador_precision.evaluate(predic)\n",
        "print(f\"Precisión del modelo: {precision}\")"
      ],
      "metadata": {
        "colab": {
          "base_uri": "https://localhost:8080/"
        },
        "id": "tN3yRcsiS8x3",
        "outputId": "360284ee-670f-4ee7-f8c8-32e11d4104d6"
      },
      "execution_count": 10,
      "outputs": [
        {
          "output_type": "stream",
          "name": "stdout",
          "text": [
            "Precisión del modelo: 0.9615384615384616\n"
          ]
        }
      ]
    },
    {
      "cell_type": "markdown",
      "source": [
        "Resultado de predicciones del conjunto de prueba"
      ],
      "metadata": {
        "id": "OeGKxh4TTD8x"
      }
    },
    {
      "cell_type": "code",
      "source": [
        "predictions = lr_model.transform(test)\n",
        "predictions.select('indexed_label', 'prediction', 'probability').show(5)"
      ],
      "metadata": {
        "colab": {
          "base_uri": "https://localhost:8080/"
        },
        "id": "bVw_3yu2SX9k",
        "outputId": "3ba0f5fe-4e29-405e-b932-f0697e2c94ce"
      },
      "execution_count": 11,
      "outputs": [
        {
          "output_type": "stream",
          "name": "stdout",
          "text": [
            "+-------------+----------+--------------------+\n",
            "|indexed_label|prediction|         probability|\n",
            "+-------------+----------+--------------------+\n",
            "|          0.0|       0.0|[0.99992753844553...|\n",
            "|          0.0|       0.0|[0.99996594734867...|\n",
            "|          0.0|       1.0|[0.44289867113317...|\n",
            "|          1.0|       1.0|[3.69930424608692...|\n",
            "|          1.0|       1.0|[1.00599836806475...|\n",
            "+-------------+----------+--------------------+\n",
            "only showing top 5 rows\n",
            "\n"
          ]
        }
      ]
    }
  ]
}